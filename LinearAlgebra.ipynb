{
  "nbformat": 4,
  "nbformat_minor": 0,
  "metadata": {
    "colab": {
      "provenance": [],
      "authorship_tag": "ABX9TyNEn/uOOMiCPs2ptnbGhdM+",
      "include_colab_link": true
    },
    "kernelspec": {
      "name": "python3",
      "display_name": "Python 3"
    },
    "language_info": {
      "name": "python"
    }
  },
  "cells": [
    {
      "cell_type": "markdown",
      "metadata": {
        "id": "view-in-github",
        "colab_type": "text"
      },
      "source": [
        "<a href=\"https://colab.research.google.com/github/pareshrchaudhary/numericalmethods/blob/main/LinearAlgebra.ipynb\" target=\"_parent\"><img src=\"https://colab.research.google.com/assets/colab-badge.svg\" alt=\"Open In Colab\"/></a>"
      ]
    },
    {
      "cell_type": "markdown",
      "source": [
        "# Linear Algebra"
      ],
      "metadata": {
        "id": "jmr_UFz82VT9"
      }
    },
    {
      "cell_type": "code",
      "execution_count": 1,
      "metadata": {
        "id": "8Ii5e6UA2UVF"
      },
      "outputs": [],
      "source": [
        "import numpy as np\n",
        "import numpy.linalg as npl\n",
        "import pandas as pd\n",
        "import matplotlib.pyplot as plt\n",
        "from IPython.core.interactiveshell import InteractiveShell"
      ]
    },
    {
      "cell_type": "code",
      "source": [
        "InteractiveShell.ast_node_interactivity = \"all\""
      ],
      "metadata": {
        "id": "x9gYNDvDMAtt"
      },
      "execution_count": 21,
      "outputs": []
    },
    {
      "cell_type": "markdown",
      "source": [
        "## 1) System of Linear Equations"
      ],
      "metadata": {
        "id": "RDh-jCe_q5fu"
      }
    },
    {
      "cell_type": "markdown",
      "source": [
        "Solve $n$ linear equations in $n$ unknowns;\n",
        "\n",
        "$\\text{Equation 1⇒ }  2 \\cdot x - y = 0$   \n",
        "$\\text{Equation 2⇒ }  -x + 2 \\cdot y = 3$  \n",
        "\n",
        "High level matrix view -\n",
        "$\\begin{aligned}\n",
        "    \\begin{bmatrix}\n",
        "        2 & -1 \\\\\n",
        "        -1 & 2\n",
        "    \\end{bmatrix}\n",
        "    \\begin{bmatrix}\n",
        "        x \\\\\n",
        "        y\n",
        "    \\end{bmatrix}\n",
        "    &=\n",
        "    \\begin{bmatrix}\n",
        "        0 \\\\\n",
        "        3\n",
        "    \\end{bmatrix}\n",
        "\\end{aligned}$"
      ],
      "metadata": {
        "id": "KedTlp4NO7ld"
      }
    },
    {
      "cell_type": "markdown",
      "source": [
        "### 1.1) Row Picture-"
      ],
      "metadata": {
        "id": "4mM06FmmQWHB"
      }
    },
    {
      "cell_type": "code",
      "source": [
        "scale = list(range(-3,4))\n",
        "y1 = lambda x: 2 * x   # Equation 1\n",
        "y2 = lambda x: int((3 + x) / 2)  # Equation 2\n",
        "\n",
        "for i in scale:\n",
        "  print(f\" For x = {i} -> Eq 1 = {y1(i)}, Eq 2 = {y2(i)}\")"
      ],
      "metadata": {
        "id": "_Q8k3iJHb6cI",
        "outputId": "56716afa-f0d4-4a6e-b9f7-8d3f6031f1b4",
        "colab": {
          "base_uri": "https://localhost:8080/"
        }
      },
      "execution_count": 20,
      "outputs": [
        {
          "output_type": "stream",
          "name": "stdout",
          "text": [
            " For x = -3 -> Eq 1 = -6, Eq 2 = 0\n",
            " For x = -2 -> Eq 1 = -4, Eq 2 = 0\n",
            " For x = -1 -> Eq 1 = -2, Eq 2 = 1\n",
            " For x = 0 -> Eq 1 = 0, Eq 2 = 1\n",
            " For x = 1 -> Eq 1 = 2, Eq 2 = 2\n",
            " For x = 2 -> Eq 1 = 4, Eq 2 = 2\n",
            " For x = 3 -> Eq 1 = 6, Eq 2 = 3\n"
          ]
        }
      ]
    },
    {
      "cell_type": "markdown",
      "source": [
        "``\n",
        " For x = 1 -> Eq 1 = 2, Eq 2 = 2\n",
        "``  \n",
        "The intersection represents the solution to the system of equations.  \n",
        "Solution: $x = 1$, $y = 2$.\n",
        "\n",
        "Cross check -   \n",
        "$\\text{Equation 1⇒ }  2 \\cdot (1) - (2) = 0$   \n",
        "$\\text{Equation 2⇒ }  -(1) + 2 \\cdot (2) = 3$  "
      ],
      "metadata": {
        "id": "6x_wbhvyQ8sj"
      }
    },
    {
      "cell_type": "markdown",
      "source": [
        "### 1.2) Column Picture"
      ],
      "metadata": {
        "id": "hKaz7h-fRTe3"
      }
    },
    {
      "cell_type": "markdown",
      "source": [
        "Coefficient expressed as vectors.\n",
        "\n",
        "Column view -\n",
        "$\\begin{aligned}\n",
        "    x \\begin{bmatrix}\n",
        "        2 \\\\\n",
        "        -1\n",
        "    \\end{bmatrix}\n",
        "    + y \\begin{bmatrix}\n",
        "        -1 \\\\\n",
        "        2\n",
        "    \\end{bmatrix}\n",
        "    &=\n",
        "    \\begin{bmatrix}\n",
        "        0 \\\\\n",
        "        3\n",
        "    \\end{bmatrix}\n",
        "\\end{aligned}$"
      ],
      "metadata": {
        "id": "uOKlhKhFRozk"
      }
    },
    {
      "cell_type": "code",
      "source": [
        "vectorA = np.array([2, -1])\n",
        "vectorB = np.array([-1, 2])"
      ],
      "metadata": {
        "id": "jmKH8fhbdwCE"
      },
      "execution_count": 22,
      "outputs": []
    },
    {
      "cell_type": "markdown",
      "source": [
        "We have solution from row picture $x = 1$ and $y = 2$"
      ],
      "metadata": {
        "id": "L5ZxpSyzeDsN"
      }
    },
    {
      "cell_type": "code",
      "source": [
        "scalerA = 1\n",
        "scalerB = 2"
      ],
      "metadata": {
        "id": "4vGNQO1ve0v5"
      },
      "execution_count": 24,
      "outputs": []
    },
    {
      "cell_type": "code",
      "source": [
        "scaleA = scalerA * vectorA  # Scaling vector A by 1\n",
        "scaleB = scalerB * vectorB  # Scaling vector B by 2\n",
        "scaleA + scaleB  # Linear combination of A & B"
      ],
      "metadata": {
        "id": "XCD7a24UeCzb",
        "outputId": "3c255619-0fba-47b5-a357-08a78f6a4ea8",
        "colab": {
          "base_uri": "https://localhost:8080/"
        }
      },
      "execution_count": 25,
      "outputs": [
        {
          "output_type": "execute_result",
          "data": {
            "text/plain": [
              "array([0, 3])"
            ]
          },
          "metadata": {},
          "execution_count": 25
        }
      ]
    },
    {
      "cell_type": "markdown",
      "source": [
        "Given two vectors $c$ and $d$ and scalars $x$ and $y$, the sum $xc + yd$ is called a linear combination of $c$ and $d$.\n",
        "\n",
        "$\\begin{aligned}\n",
        "  \\text{Geometrically, we want } (x) \\text{ and }  (y) \\text{ such that }\n",
        "  (x) \\text{ copies of}\n",
        "  \\begin{bmatrix}\n",
        "    2 \\\\\n",
        "    -1\n",
        "  \\end{bmatrix}\n",
        "  \\text{ added to } (y) \\text{ copies of }\n",
        "    \\begin{bmatrix}\n",
        "    -1 \\\\\n",
        "    2\n",
        "  \\end{bmatrix}\n",
        "  \\text{ equals the vector}\n",
        "  \\begin{bmatrix}\n",
        "  0 \\\\\n",
        "  3\n",
        "  \\end{bmatrix}\n",
        "\\end{aligned}$"
      ],
      "metadata": {
        "id": "ga0UsXO3T4ub"
      }
    },
    {
      "cell_type": "markdown",
      "source": [
        "### 1.3) Matrix Picture"
      ],
      "metadata": {
        "id": "r_k3ErKxfHnN"
      }
    },
    {
      "cell_type": "markdown",
      "source": [
        "#### Notation"
      ],
      "metadata": {
        "id": "b4ASfQFclpJK"
      }
    },
    {
      "cell_type": "markdown",
      "source": [
        "Coefficients expressed as matrix and unknowns as vectors.\n",
        "\n",
        "Matrix view -\n",
        "$\\begin{aligned}\n",
        "    \\begin{bmatrix}\n",
        "        2 & -1 \\\\\n",
        "        -1 & 2\n",
        "    \\end{bmatrix}\n",
        "    \\begin{bmatrix}\n",
        "        x \\\\\n",
        "        y\n",
        "    \\end{bmatrix}\n",
        "    &=\n",
        "    \\begin{bmatrix}\n",
        "        0 \\\\\n",
        "        3\n",
        "    \\end{bmatrix}\n",
        "    \\\\\n",
        "    A & x  = b\n",
        "\\end{aligned}$  \n",
        "\n",
        "$A \\in \\mathbb{R}^{m*n} \\text{ a matrix with } m \\text{ rows and } n \\text{ columns}$\n",
        "\n",
        "$x \\in \\mathbb{R}^{n} \\text{ a vector with } n \\text{ entries}$\n",
        "\n",
        "By convention, an n-dimensional vector is often thought of as a matrix with $(n) rows$ and $(1) column$, known as a **column vector**."
      ],
      "metadata": {
        "id": "1abF5R7VfJS6"
      }
    },
    {
      "cell_type": "code",
      "source": [
        "matA = np.array([[2,-1], [-1,2]])\n",
        "matA"
      ],
      "metadata": {
        "id": "VNmrNIVrgJ-M",
        "outputId": "02c4681a-8893-43d5-eeb7-bf692d4be58a",
        "colab": {
          "base_uri": "https://localhost:8080/"
        }
      },
      "execution_count": 115,
      "outputs": [
        {
          "output_type": "execute_result",
          "data": {
            "text/plain": [
              "array([[ 2, -1],\n",
              "       [-1,  2]])"
            ]
          },
          "metadata": {},
          "execution_count": 115
        }
      ]
    },
    {
      "cell_type": "code",
      "source": [
        "vec_b = np.array([0, 3])\n",
        "vec_b"
      ],
      "metadata": {
        "id": "YR27LvuRgSJh",
        "outputId": "4f7b05cb-7f2a-4b49-afc0-5b03a7005a0c",
        "colab": {
          "base_uri": "https://localhost:8080/"
        }
      },
      "execution_count": 116,
      "outputs": [
        {
          "output_type": "execute_result",
          "data": {
            "text/plain": [
              "array([0, 3])"
            ]
          },
          "metadata": {},
          "execution_count": 116
        }
      ]
    },
    {
      "cell_type": "markdown",
      "source": [
        "Properties of numpy array"
      ],
      "metadata": {
        "id": "DFzOwEdVEYdE"
      }
    },
    {
      "cell_type": "code",
      "source": [
        "print(f\"Number of dimensions = {matA.ndim}\")\n",
        "print(f\"(rows, columns) = {matA.shape}\")\n",
        "print(f\"Total number of elements  = {matA.size}\")\n",
        "print(f\"Data type of the elements = {matA.dtype}\")\n",
        "print(f\"Size in bytes of each element = {matA.itemsize}\")"
      ],
      "metadata": {
        "id": "rz7_gKjzCl5d",
        "outputId": "717515cf-eef7-4e05-d4ad-9072c3e7b6eb",
        "colab": {
          "base_uri": "https://localhost:8080/"
        }
      },
      "execution_count": 139,
      "outputs": [
        {
          "output_type": "stream",
          "name": "stdout",
          "text": [
            "Number of dimensions = 2\n",
            "(rows, columns) = (2, 2)\n",
            "Total number of elements  = 4\n",
            "Data type of the elements = int64\n",
            "Size in bytes of each element = 8\n"
          ]
        }
      ]
    },
    {
      "cell_type": "markdown",
      "source": [
        "#### Indexing"
      ],
      "metadata": {
        "id": "KSYAsA3463SM"
      }
    },
    {
      "cell_type": "markdown",
      "source": [
        "$i^{th}$ element of $x$ is $x_i$, similarly, elements of $A$ are accessed by $a_{ij}$\n",
        "\n",
        "$Row = i$,  $Column = j$"
      ],
      "metadata": {
        "id": "iy_hTQu6ktS4"
      }
    },
    {
      "cell_type": "code",
      "source": [
        "matA[1,0]  # indexing starts from 0"
      ],
      "metadata": {
        "id": "XGJD7WqElUmt",
        "outputId": "036e216c-04b6-4db8-9026-aa8a23fe34cc",
        "colab": {
          "base_uri": "https://localhost:8080/"
        }
      },
      "execution_count": 117,
      "outputs": [
        {
          "output_type": "execute_result",
          "data": {
            "text/plain": [
              "-1"
            ]
          },
          "metadata": {},
          "execution_count": 117
        }
      ]
    },
    {
      "cell_type": "code",
      "source": [
        "vec_b[0]"
      ],
      "metadata": {
        "id": "bsz3rlf9lgUF",
        "outputId": "298a59f8-8c2d-4ca6-ac2e-4149593877f9",
        "colab": {
          "base_uri": "https://localhost:8080/"
        }
      },
      "execution_count": 118,
      "outputs": [
        {
          "output_type": "execute_result",
          "data": {
            "text/plain": [
              "0"
            ]
          },
          "metadata": {},
          "execution_count": 118
        }
      ]
    },
    {
      "cell_type": "markdown",
      "source": [
        "#### Solving $Ax = b$"
      ],
      "metadata": {
        "id": "qJJ2Vj2F7UBN"
      }
    },
    {
      "cell_type": "code",
      "source": [
        "vectorX = np.linalg.solve(matA, vec_b)\n",
        "vectorX"
      ],
      "metadata": {
        "id": "ilNan_qC6PuR",
        "outputId": "52cb77f3-ab29-4ca3-a141-ce7f4919469a",
        "colab": {
          "base_uri": "https://localhost:8080/"
        }
      },
      "execution_count": 119,
      "outputs": [
        {
          "output_type": "execute_result",
          "data": {
            "text/plain": [
              "array([1., 2.])"
            ]
          },
          "metadata": {},
          "execution_count": 119
        }
      ]
    },
    {
      "cell_type": "markdown",
      "source": [
        "In general, for a real-valued system of linear equations we obtain **either no, exactly one, or infinitely many solutions**."
      ],
      "metadata": {
        "id": "9Gu3YNry57EO"
      }
    },
    {
      "cell_type": "markdown",
      "source": [
        "## 2) Matrix Operations"
      ],
      "metadata": {
        "id": "HtCKy3Ll6Jky"
      }
    },
    {
      "cell_type": "markdown",
      "source": [
        "### 2.1) Matrix Transpose"
      ],
      "metadata": {
        "id": "X80Bk804EnP0"
      }
    },
    {
      "cell_type": "markdown",
      "source": [
        "$\\begin{aligned}\n",
        "    x =\n",
        "    \\begin{bmatrix}\n",
        "        1 & 2 \\\\\n",
        "        3 & 4\n",
        "    \\end{bmatrix}\n",
        "    x^T =\n",
        "    \\begin{bmatrix}\n",
        "        1 & 3 \\\\\n",
        "        2 & 4\n",
        "    \\end{bmatrix}\n",
        "\\end{aligned}$\n",
        "\n"
      ],
      "metadata": {
        "id": "P1IDeEo3Etn1"
      }
    },
    {
      "cell_type": "code",
      "source": [
        "vecX = np.array([[1,2], [3,4]])"
      ],
      "metadata": {
        "id": "o0-XMrxxFT_z"
      },
      "execution_count": 145,
      "outputs": []
    },
    {
      "cell_type": "code",
      "source": [
        "vecX.T"
      ],
      "metadata": {
        "id": "fatDOnt8FWS1",
        "outputId": "ce3adad5-f3d9-4e0d-cf31-8b0085b465d6",
        "colab": {
          "base_uri": "https://localhost:8080/"
        }
      },
      "execution_count": 146,
      "outputs": [
        {
          "output_type": "execute_result",
          "data": {
            "text/plain": [
              "array([[1, 3],\n",
              "       [2, 4]])"
            ]
          },
          "metadata": {},
          "execution_count": 146
        }
      ]
    },
    {
      "cell_type": "markdown",
      "source": [
        "### 2.2) Matrix Addition"
      ],
      "metadata": {
        "id": "z4C-aV8gtUx2"
      }
    },
    {
      "cell_type": "markdown",
      "source": [
        "Sum of two matrices is defined element wise."
      ],
      "metadata": {
        "id": "hVBK42m-tZbv"
      }
    },
    {
      "cell_type": "code",
      "source": [
        "matA = np.array([[2,5], [1,3]])\n",
        "matB = np.array([[2,5], [1,3]])"
      ],
      "metadata": {
        "id": "UmxzAJw3tcBS"
      },
      "execution_count": 90,
      "outputs": []
    },
    {
      "cell_type": "code",
      "source": [
        "matA + matB"
      ],
      "metadata": {
        "id": "Cy6tjWgBzTIf",
        "outputId": "b2d6166e-9438-4f91-eb96-f9bb4ab4b7da",
        "colab": {
          "base_uri": "https://localhost:8080/"
        }
      },
      "execution_count": 91,
      "outputs": [
        {
          "output_type": "execute_result",
          "data": {
            "text/plain": [
              "array([[ 4, 10],\n",
              "       [ 2,  6]])"
            ]
          },
          "metadata": {},
          "execution_count": 91
        }
      ]
    },
    {
      "cell_type": "markdown",
      "source": [
        "**Addition Properties**:  \n",
        "$\\text{Commutative} ⇒ A+B = B+A$  \n",
        "$\\text{Distributive} ⇒ c(A + B) = cA + cB$  \n",
        "$\\text{Associative} ⇒ (A+B)+C = A+(B+C)$  "
      ],
      "metadata": {
        "id": "hbtkojg2NV8H"
      }
    },
    {
      "cell_type": "markdown",
      "source": [
        "### 2.3) Matrix multiplication"
      ],
      "metadata": {
        "id": "WE38uXS0jo2m"
      }
    },
    {
      "cell_type": "markdown",
      "source": [
        "The product of two matrices $A \\in \\mathbb{R}^{m \\times b}$ and $B \\in \\mathbb{R}^{n \\times p}$ is the matrix $C = AB \\in \\mathbb{R}^{m \\times p}$ where $\\boxed{C_{ij} = \\sum\\limits_{k=1}^n A_{ik} B_{kj}}$"
      ],
      "metadata": {
        "id": "-Q-hFIMz-EjD"
      }
    },
    {
      "cell_type": "markdown",
      "source": [
        "Multiplication $(m \\times p)$ to exist $(m \\times n) (n \\times p)$ inner dimension must match.\n",
        "\n",
        "The number of columns in $A$ must equal the number of rows in $B$."
      ],
      "metadata": {
        "id": "yi0lnlIM_3do"
      }
    },
    {
      "cell_type": "markdown",
      "source": [
        "#### 1) Scalar Multiplication"
      ],
      "metadata": {
        "id": "FME0rdhw9L2E"
      }
    },
    {
      "cell_type": "code",
      "source": [
        "vecX =  np.array([1,2])"
      ],
      "metadata": {
        "id": "Rou6Ts_ftgWM"
      },
      "execution_count": 123,
      "outputs": []
    },
    {
      "cell_type": "code",
      "source": [
        "vecX*2"
      ],
      "metadata": {
        "id": "LU6H83IW9TbH",
        "outputId": "11d69f68-6213-4dba-a005-c00bb22b76e7",
        "colab": {
          "base_uri": "https://localhost:8080/"
        }
      },
      "execution_count": 122,
      "outputs": [
        {
          "output_type": "execute_result",
          "data": {
            "text/plain": [
              "array([2, 4])"
            ]
          },
          "metadata": {},
          "execution_count": 122
        }
      ]
    },
    {
      "cell_type": "markdown",
      "source": [
        "#### 2) Vector-Vector Product"
      ],
      "metadata": {
        "id": "688yPWpAAxJw"
      }
    },
    {
      "cell_type": "markdown",
      "source": [
        "_Also called inner product or dot product of vectors._"
      ],
      "metadata": {
        "id": "UG37GW3pBaDw"
      }
    },
    {
      "cell_type": "markdown",
      "source": [
        "$x^T \\cdot y = \\sum\\limits_{k=1}^n x_{i} y_{i}$\n",
        "\n",
        "$x^T \\cdot y = y^T \\cdot x$"
      ],
      "metadata": {
        "id": "4wvDp7HQGLVq"
      }
    },
    {
      "cell_type": "code",
      "source": [
        "vecX = np.array([1,2])\n",
        "vecY = np.array([2,1])\n",
        "vecX.shape, vecY.shape"
      ],
      "metadata": {
        "id": "6smekAdXA2Np",
        "outputId": "4ebd73d5-56a0-4d94-8670-284419390300",
        "colab": {
          "base_uri": "https://localhost:8080/"
        }
      },
      "execution_count": 148,
      "outputs": [
        {
          "output_type": "execute_result",
          "data": {
            "text/plain": [
              "((2,), (2,))"
            ]
          },
          "metadata": {},
          "execution_count": 148
        }
      ]
    },
    {
      "cell_type": "code",
      "source": [
        "result = 0\n",
        "for i in range(0, len(vecX)):\n",
        "  result += vecX[i]*vecY[i]\n",
        "result"
      ],
      "metadata": {
        "id": "G1LS854CBV8K",
        "outputId": "b325cdc9-ae52-4c18-c685-56e57b2c8957",
        "colab": {
          "base_uri": "https://localhost:8080/"
        }
      },
      "execution_count": 149,
      "outputs": [
        {
          "output_type": "execute_result",
          "data": {
            "text/plain": [
              "4"
            ]
          },
          "metadata": {},
          "execution_count": 149
        }
      ]
    },
    {
      "cell_type": "code",
      "source": [
        "np.dot(vecX,vecY)  # numpy . operator"
      ],
      "metadata": {
        "id": "qy_DdROSCRqP",
        "outputId": "254aadaa-12c2-45f3-8000-836831355aff",
        "colab": {
          "base_uri": "https://localhost:8080/"
        }
      },
      "execution_count": 150,
      "outputs": [
        {
          "output_type": "execute_result",
          "data": {
            "text/plain": [
              "4"
            ]
          },
          "metadata": {},
          "execution_count": 150
        }
      ]
    },
    {
      "cell_type": "markdown",
      "source": [
        "#### 3) Matrix-Vector Product"
      ],
      "metadata": {
        "id": "lUmmQgkQo02R"
      }
    },
    {
      "cell_type": "markdown",
      "source": [
        "_Linear combination of columns of matrix_"
      ],
      "metadata": {
        "id": "HPE2dnbqHasZ"
      }
    },
    {
      "cell_type": "markdown",
      "source": [
        "$y = Ax$, where $y$ is a linear combination of the columns of $A$.\n",
        "\n",
        "$y^T = x^TA$, where $y$ is a linear combination of the rows of $A$."
      ],
      "metadata": {
        "id": "GjdZBRQXH0qy"
      }
    },
    {
      "cell_type": "code",
      "source": [
        "matA = np.array([[2,5], [1,3]])\n",
        "vecX =  np.array([1,2])"
      ],
      "metadata": {
        "id": "CpCDcUvDBRkV"
      },
      "execution_count": 151,
      "outputs": []
    },
    {
      "cell_type": "markdown",
      "source": [
        "![image.png](data:image/png;base64,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)"
      ],
      "metadata": {
        "id": "Hw6OxCOPvN-r"
      }
    },
    {
      "cell_type": "code",
      "source": [
        "def linear(mat, vec):\n",
        "  result = np.zeros(mat.shape[1])\n",
        "  for col in range(mat.shape[1]):\n",
        "    col_vector = mat[:, col]\n",
        "    scaled_vector = vec[col] * col_vector\n",
        "    result += scaled_vector\n",
        "  return result"
      ],
      "metadata": {
        "id": "ci4455n8yzMO"
      },
      "execution_count": 152,
      "outputs": []
    },
    {
      "cell_type": "code",
      "source": [
        "linear(matA, vecX)"
      ],
      "metadata": {
        "id": "n9M57EgKzBuA",
        "outputId": "37692c35-6712-4cb5-bf79-0f7d4d80c428",
        "colab": {
          "base_uri": "https://localhost:8080/"
        }
      },
      "execution_count": 153,
      "outputs": [
        {
          "output_type": "execute_result",
          "data": {
            "text/plain": [
              "array([12.,  7.])"
            ]
          },
          "metadata": {},
          "execution_count": 153
        }
      ]
    },
    {
      "cell_type": "code",
      "source": [
        "np.matmul(matA, vecX)"
      ],
      "metadata": {
        "id": "TUhfVyv8HOus",
        "outputId": "e607b939-e293-47c2-ee5c-6e923dce2251",
        "colab": {
          "base_uri": "https://localhost:8080/"
        }
      },
      "execution_count": 154,
      "outputs": [
        {
          "output_type": "execute_result",
          "data": {
            "text/plain": [
              "array([12,  7])"
            ]
          },
          "metadata": {},
          "execution_count": 154
        }
      ]
    },
    {
      "cell_type": "code",
      "source": [
        "np.matmul(vecX.T, matA)"
      ],
      "metadata": {
        "id": "QT3JiF-_IYLp",
        "outputId": "91b4f490-54a9-40bf-fcbd-ef92790d8df7",
        "colab": {
          "base_uri": "https://localhost:8080/"
        }
      },
      "execution_count": 157,
      "outputs": [
        {
          "output_type": "execute_result",
          "data": {
            "text/plain": [
              "array([ 4, 11])"
            ]
          },
          "metadata": {},
          "execution_count": 157
        }
      ]
    },
    {
      "cell_type": "markdown",
      "source": [
        "#### 4) Matrix-Matrix Product"
      ],
      "metadata": {
        "id": "XNlGgyxooy7X"
      }
    },
    {
      "cell_type": "markdown",
      "source": [
        "_Dot product._"
      ],
      "metadata": {
        "id": "KfbaN_T-KQIq"
      }
    },
    {
      "cell_type": "code",
      "source": [
        "A = np.array([[1,2], [3,4]])\n",
        "B = np.array([[4,3], [2,1]])"
      ],
      "metadata": {
        "id": "SZOUDqwkJayY"
      },
      "execution_count": 188,
      "outputs": []
    },
    {
      "cell_type": "code",
      "source": [
        "A.dot(B)  # np.dot"
      ],
      "metadata": {
        "id": "7fxAhSxXJozy",
        "outputId": "ee442a5b-994e-4f59-8e7c-3d21475dff1d",
        "colab": {
          "base_uri": "https://localhost:8080/"
        }
      },
      "execution_count": 189,
      "outputs": [
        {
          "output_type": "execute_result",
          "data": {
            "text/plain": [
              "array([[ 8,  5],\n",
              "       [20, 13]])"
            ]
          },
          "metadata": {},
          "execution_count": 189
        }
      ]
    },
    {
      "cell_type": "code",
      "source": [
        "A @ B  # @ operator"
      ],
      "metadata": {
        "id": "7MOZ-EGWJvaN",
        "outputId": "34f1b2ef-7c53-4ffe-845c-9c8d8d4ca7b4",
        "colab": {
          "base_uri": "https://localhost:8080/"
        }
      },
      "execution_count": 190,
      "outputs": [
        {
          "output_type": "execute_result",
          "data": {
            "text/plain": [
              "array([[ 8,  5],\n",
              "       [20, 13]])"
            ]
          },
          "metadata": {},
          "execution_count": 190
        }
      ]
    },
    {
      "cell_type": "code",
      "source": [
        "np.matmul(A, B)  # np.matmul"
      ],
      "metadata": {
        "id": "O5OZ9-ILJ2Ra",
        "outputId": "a64f83d3-f598-4e26-bfdf-32c727d19214",
        "colab": {
          "base_uri": "https://localhost:8080/"
        }
      },
      "execution_count": 191,
      "outputs": [
        {
          "output_type": "execute_result",
          "data": {
            "text/plain": [
              "array([[ 8,  5],\n",
              "       [20, 13]])"
            ]
          },
          "metadata": {},
          "execution_count": 191
        }
      ]
    },
    {
      "cell_type": "markdown",
      "source": [
        "**Multiplication Properties**:  \n",
        "$\\text{Not Commutative} ⇒ AB \\ne BA$  \n",
        "$\\text{Associative} ⇒ (AB)C = A(BC)$  \n",
        "$\\text{Distributive} ⇒ A(B + C ) = AB + BC$  "
      ],
      "metadata": {
        "id": "xpTiiKI5MVqS"
      }
    },
    {
      "cell_type": "code",
      "source": [
        "A = np.array([[0,0], [1,0]])\n",
        "B = np.array([[0,0], [0,1]])"
      ],
      "metadata": {
        "id": "KkPq6wiPNEil"
      },
      "execution_count": 182,
      "outputs": []
    },
    {
      "cell_type": "code",
      "source": [
        "A @ B == B @ A"
      ],
      "metadata": {
        "id": "tq-iBIVcOVhv",
        "outputId": "0a3c9d3d-1761-4a20-85ad-009ed64bef10",
        "colab": {
          "base_uri": "https://localhost:8080/"
        }
      },
      "execution_count": 185,
      "outputs": [
        {
          "output_type": "execute_result",
          "data": {
            "text/plain": [
              "array([[ True,  True],\n",
              "       [False,  True]])"
            ]
          },
          "metadata": {},
          "execution_count": 185
        }
      ]
    }
  ]
}