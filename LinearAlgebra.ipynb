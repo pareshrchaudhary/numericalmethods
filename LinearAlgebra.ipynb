{
  "nbformat": 4,
  "nbformat_minor": 0,
  "metadata": {
    "colab": {
      "provenance": [],
      "authorship_tag": "ABX9TyPAW/LpHyeQsoH1fwitNuHT",
      "include_colab_link": true
    },
    "kernelspec": {
      "name": "python3",
      "display_name": "Python 3"
    },
    "language_info": {
      "name": "python"
    }
  },
  "cells": [
    {
      "cell_type": "markdown",
      "metadata": {
        "id": "view-in-github",
        "colab_type": "text"
      },
      "source": [
        "<a href=\"https://colab.research.google.com/github/pareshrchaudhary/numericalmethods/blob/main/LinearAlgebra.ipynb\" target=\"_parent\"><img src=\"https://colab.research.google.com/assets/colab-badge.svg\" alt=\"Open In Colab\"/></a>"
      ]
    },
    {
      "cell_type": "markdown",
      "source": [
        "# Linear Algebra"
      ],
      "metadata": {
        "id": "jmr_UFz82VT9"
      }
    },
    {
      "cell_type": "code",
      "execution_count": 4,
      "metadata": {
        "id": "8Ii5e6UA2UVF"
      },
      "outputs": [],
      "source": [
        "import numpy as np\n",
        "import numpy.linalg as npl\n",
        "import pandas as pd\n",
        "import matplotlib.pyplot as plt\n",
        "from IPython.core.interactiveshell import InteractiveShell"
      ]
    },
    {
      "cell_type": "code",
      "source": [
        "InteractiveShell.ast_node_interactivity = \"all\""
      ],
      "metadata": {
        "id": "x9gYNDvDMAtt"
      },
      "execution_count": 5,
      "outputs": []
    },
    {
      "cell_type": "markdown",
      "source": [
        "## 1) System of Linear Equations"
      ],
      "metadata": {
        "id": "RDh-jCe_q5fu"
      }
    },
    {
      "cell_type": "markdown",
      "source": [
        "Solve $n$ linear equations in $n$ unknowns;\n",
        "\n",
        "$\\text{Equation 1⇒ }  2 \\cdot x - y = 0$   \n",
        "$\\text{Equation 2⇒ }  -x + 2 \\cdot y = 3$  \n",
        "\n",
        "High level matrix view -\n",
        "$\\begin{aligned}\n",
        "    \\begin{bmatrix}\n",
        "        2 & -1 \\\\\n",
        "        -1 & 2\n",
        "    \\end{bmatrix}\n",
        "    \\begin{bmatrix}\n",
        "        x \\\\\n",
        "        y\n",
        "    \\end{bmatrix}\n",
        "    &=\n",
        "    \\begin{bmatrix}\n",
        "        0 \\\\\n",
        "        3\n",
        "    \\end{bmatrix}\n",
        "\\end{aligned}$"
      ],
      "metadata": {
        "id": "KedTlp4NO7ld"
      }
    },
    {
      "cell_type": "markdown",
      "source": [
        "### 1.1) Row Picture-"
      ],
      "metadata": {
        "id": "4mM06FmmQWHB"
      }
    },
    {
      "cell_type": "code",
      "source": [
        "x_values = np.arange(-3, 4)\n",
        "y1 = lambda x: 2 * x\n",
        "y2 = lambda x: (3 + x) / 2\n",
        "y1_values = [y1(x) for x in x_values]\n",
        "y2_values = [y2(x) for x in x_values]\n",
        "\n",
        "plt.figure(figsize=(8, 6))\n",
        "plt.plot(x_values, y1_values, label='2x - y = 0')\n",
        "plt.plot(x_values, y2_values, label='-x + 2y = 3')\n",
        "plt.scatter(1, 2, color='red')\n",
        "plt.axhline(0, color='black', linewidth=0.5)\n",
        "plt.axvline(0, color='black', linewidth=0.5)\n",
        "plt.grid(True, linestyle='--', alpha=0.7)\n",
        "plt.title('Graphs of Equations')\n",
        "plt.xlabel('x')\n",
        "plt.ylabel('y')\n",
        "plt.legend()\n",
        "plt.show()"
      ],
      "metadata": {
        "id": "7g6373-_99aA",
        "outputId": "41788de7-5eff-4213-c3ca-24a9582af824",
        "colab": {
          "base_uri": "https://localhost:8080/",
          "height": 616
        }
      },
      "execution_count": 45,
      "outputs": [
        {
          "output_type": "execute_result",
          "data": {
            "text/plain": [
              "<Figure size 800x600 with 0 Axes>"
            ]
          },
          "metadata": {},
          "execution_count": 45
        },
        {
          "output_type": "execute_result",
          "data": {
            "text/plain": [
              "[<matplotlib.lines.Line2D at 0x7e39b5628400>]"
            ]
          },
          "metadata": {},
          "execution_count": 45
        },
        {
          "output_type": "execute_result",
          "data": {
            "text/plain": [
              "[<matplotlib.lines.Line2D at 0x7e39b56285b0>]"
            ]
          },
          "metadata": {},
          "execution_count": 45
        },
        {
          "output_type": "execute_result",
          "data": {
            "text/plain": [
              "<matplotlib.collections.PathCollection at 0x7e39b55f33d0>"
            ]
          },
          "metadata": {},
          "execution_count": 45
        },
        {
          "output_type": "execute_result",
          "data": {
            "text/plain": [
              "<matplotlib.lines.Line2D at 0x7e39b5c07f10>"
            ]
          },
          "metadata": {},
          "execution_count": 45
        },
        {
          "output_type": "execute_result",
          "data": {
            "text/plain": [
              "<matplotlib.lines.Line2D at 0x7e39b5628b80>"
            ]
          },
          "metadata": {},
          "execution_count": 45
        },
        {
          "output_type": "execute_result",
          "data": {
            "text/plain": [
              "Text(0.5, 1.0, 'Graphs of Equations')"
            ]
          },
          "metadata": {},
          "execution_count": 45
        },
        {
          "output_type": "execute_result",
          "data": {
            "text/plain": [
              "Text(0.5, 0, 'x')"
            ]
          },
          "metadata": {},
          "execution_count": 45
        },
        {
          "output_type": "execute_result",
          "data": {
            "text/plain": [
              "Text(0, 0.5, 'y')"
            ]
          },
          "metadata": {},
          "execution_count": 45
        },
        {
          "output_type": "execute_result",
          "data": {
            "text/plain": [
              "<matplotlib.legend.Legend at 0x7e39b55f20b0>"
            ]
          },
          "metadata": {},
          "execution_count": 45
        },
        {
          "output_type": "display_data",
          "data": {
            "text/plain": [
              "<Figure size 800x600 with 1 Axes>"
            ],
            "image/png": "[encoded data removed]"
          },
          "metadata": {}
        }
      ]
    },
    {
      "cell_type": "markdown",
      "source": [
        "``\n",
        " For x = 1 -> Eq 1 = 2, Eq 2 = 2\n",
        "``  \n",
        "The intersection represents the solution to the system of equations.  \n",
        "Solution: $x = 1$, $y = 2$.\n",
        "\n",
        "Cross check -   \n",
        "$\\text{Equation 1⇒ }  2 \\cdot (1) - (2) = 0$   \n",
        "$\\text{Equation 2⇒ }  -(1) + 2 \\cdot (2) = 3$  "
      ],
      "metadata": {
        "id": "6x_wbhvyQ8sj"
      }
    },
    {
      "cell_type": "markdown",
      "source": [
        "### 1.2) Column Picture"
      ],
      "metadata": {
        "id": "hKaz7h-fRTe3"
      }
    },
    {
      "cell_type": "markdown",
      "source": [
        "Coefficient expressed as vectors.\n",
        "\n",
        "Column view -\n",
        "$\\begin{aligned}\n",
        "    x \\begin{bmatrix}\n",
        "        2 \\\\\n",
        "        -1\n",
        "    \\end{bmatrix}\n",
        "    + y \\begin{bmatrix}\n",
        "        -1 \\\\\n",
        "        2\n",
        "    \\end{bmatrix}\n",
        "    &=\n",
        "    \\begin{bmatrix}\n",
        "        0 \\\\\n",
        "        3\n",
        "    \\end{bmatrix}\n",
        "\\end{aligned}$"
      ],
      "metadata": {
        "id": "uOKlhKhFRozk"
      }
    },
    {
      "cell_type": "code",
      "source": [
        "vectorA = np.array([2, -1])\n",
        "vectorB = np.array([-1, 2])"
      ],
      "metadata": {
        "id": "jmKH8fhbdwCE"
      },
      "execution_count": 46,
      "outputs": []
    },
    {
      "cell_type": "markdown",
      "source": [
        "We have solution from row picture $x = 1$ and $y = 2$"
      ],
      "metadata": {
        "id": "L5ZxpSyzeDsN"
      }
    },
    {
      "cell_type": "code",
      "source": [
        "scalerA = 1\n",
        "scalerB = 2"
      ],
      "metadata": {
        "id": "4vGNQO1ve0v5"
      },
      "execution_count": 47,
      "outputs": []
    },
    {
      "cell_type": "code",
      "source": [
        "scaleA = scalerA * vectorA  # Scaling vector A by 1\n",
        "scaleB = scalerB * vectorB  # Scaling vector B by 2\n",
        "scaleA , scaleB"
      ],
      "metadata": {
        "id": "XCD7a24UeCzb",
        "outputId": "cc87cb22-bb48-4321-b727-9bd991f006a9",
        "colab": {
          "base_uri": "https://localhost:8080/"
        }
      },
      "execution_count": 54,
      "outputs": [
        {
          "output_type": "execute_result",
          "data": {
            "text/plain": [
              "(array([ 2, -1]), array([-2,  4]))"
            ]
          },
          "metadata": {},
          "execution_count": 54
        }
      ]
    },
    {
      "cell_type": "code",
      "source": [
        "linear_combination = scaleA + scaleB  # Linear combination of A & B\n",
        "linear_combination"
      ],
      "metadata": {
        "id": "zfC5WaJ7AXue",
        "outputId": "d69ca6ab-e19c-45d1-adc5-761e26c888ce",
        "colab": {
          "base_uri": "https://localhost:8080/"
        }
      },
      "execution_count": 55,
      "outputs": [
        {
          "output_type": "execute_result",
          "data": {
            "text/plain": [
              "array([0, 3])"
            ]
          },
          "metadata": {},
          "execution_count": 55
        }
      ]
    },
    {
      "cell_type": "code",
      "source": [
        "plt.figure(figsize=(8, 6))\n",
        "plt.quiver(0, 0, vectorA[0], vectorA[1], angles='xy', scale_units='xy', scale=1, color='red', label='Vector A')\n",
        "plt.quiver(0, 0, vectorB[0], vectorB[1], angles='xy', scale_units='xy', scale=1, color='blue', label='Vector B')\n",
        "plt.quiver(0, 0, scaleA[0], scaleA[1], angles='xy', scale_units='xy', scale=1, color='green', label='Scaled A')\n",
        "plt.quiver(0, 0, scaleB[0], scaleB[1], angles='xy', scale_units='xy', scale=1, color='purple', label='Scaled B')\n",
        "plt.quiver(0, 0, linear_combination[0], linear_combination[1], angles='xy', scale_units='xy', scale=1, color='orange', label='Linear Combination')\n",
        "\n",
        "plt.xlim(-3, 3)\n",
        "plt.ylim(-3, 5)\n",
        "plt.axhline(0, color='black', linewidth=0.5)\n",
        "plt.axvline(0, color='black', linewidth=0.5)\n",
        "plt.grid(True, linestyle='--', alpha=0.7)\n",
        "plt.title('Vectors and Linear Combination')\n",
        "plt.xlabel('x')\n",
        "plt.ylabel('y')\n",
        "plt.legend()\n",
        "plt.show()"
      ],
      "metadata": {
        "id": "PivP-BWp_bJy",
        "outputId": "f637b156-f9ed-4618-d3fc-d3c674500d8d",
        "colab": {
          "base_uri": "https://localhost:8080/",
          "height": 616
        }
      },
      "execution_count": 59,
      "outputs": [
        {
          "output_type": "execute_result",
          "data": {
            "text/plain": [
              "<Figure size 800x600 with 0 Axes>"
            ]
          },
          "metadata": {},
          "execution_count": 59
        },
        {
          "output_type": "execute_result",
          "data": {
            "text/plain": [
              "<matplotlib.quiver.Quiver at 0x7e39b516c130>"
            ]
          },
          "metadata": {},
          "execution_count": 59
        },
        {
          "output_type": "execute_result",
          "data": {
            "text/plain": [
              "<matplotlib.quiver.Quiver at 0x7e39b51a4e20>"
            ]
          },
          "metadata": {},
          "execution_count": 59
        },
        {
          "output_type": "execute_result",
          "data": {
            "text/plain": [
              "<matplotlib.quiver.Quiver at 0x7e39b58d8b80>"
            ]
          },
          "metadata": {},
          "execution_count": 59
        },
        {
          "output_type": "execute_result",
          "data": {
            "text/plain": [
              "<matplotlib.quiver.Quiver at 0x7e39b5113310>"
            ]
          },
          "metadata": {},
          "execution_count": 59
        },
        {
          "output_type": "execute_result",
          "data": {
            "text/plain": [
              "<matplotlib.quiver.Quiver at 0x7e39b51c6710>"
            ]
          },
          "metadata": {},
          "execution_count": 59
        },
        {
          "output_type": "execute_result",
          "data": {
            "text/plain": [
              "(-3.0, 3.0)"
            ]
          },
          "metadata": {},
          "execution_count": 59
        },
        {
          "output_type": "execute_result",
          "data": {
            "text/plain": [
              "(-3.0, 5.0)"
            ]
          },
          "metadata": {},
          "execution_count": 59
        },
        {
          "output_type": "execute_result",
          "data": {
            "text/plain": [
              "<matplotlib.lines.Line2D at 0x7e39b51c6a70>"
            ]
          },
          "metadata": {},
          "execution_count": 59
        },
        {
          "output_type": "execute_result",
          "data": {
            "text/plain": [
              "<matplotlib.lines.Line2D at 0x7e39b51c70d0>"
            ]
          },
          "metadata": {},
          "execution_count": 59
        },
        {
          "output_type": "execute_result",
          "data": {
            "text/plain": [
              "Text(0.5, 1.0, 'Vectors and Linear Combination')"
            ]
          },
          "metadata": {},
          "execution_count": 59
        },
        {
          "output_type": "execute_result",
          "data": {
            "text/plain": [
              "Text(0.5, 0, 'x')"
            ]
          },
          "metadata": {},
          "execution_count": 59
        },
        {
          "output_type": "execute_result",
          "data": {
            "text/plain": [
              "Text(0, 0.5, 'y')"
            ]
          },
          "metadata": {},
          "execution_count": 59
        },
        {
          "output_type": "execute_result",
          "data": {
            "text/plain": [
              "<matplotlib.legend.Legend at 0x7e39b51c7310>"
            ]
          },
          "metadata": {},
          "execution_count": 59
        },
        {
          "output_type": "display_data",
          "data": {
            "text/plain": [
              "<Figure size 800x600 with 1 Axes>"
            ],
            "image/png": "[encoded data removed]"
          },
          "metadata": {}
        }
      ]
    },
    {
      "cell_type": "markdown",
      "source": [
        "Given two vectors $c$ and $d$ and scalars $x$ and $y$, the sum $xc + yd$ is called a linear combination of $c$ and $d$.\n",
        "\n",
        "$\\begin{aligned}\n",
        "  \\text{Geometrically, we want } (x) \\text{ and }  (y) \\text{ such that }\n",
        "  (x) \\text{ copies of}\n",
        "  \\begin{bmatrix}\n",
        "    2 \\\\\n",
        "    -1\n",
        "  \\end{bmatrix}\n",
        "  \\text{ added to } (y) \\text{ copies of }\n",
        "    \\begin{bmatrix}\n",
        "    -1 \\\\\n",
        "    2\n",
        "  \\end{bmatrix}\n",
        "  \\text{ equals the vector}\n",
        "  \\begin{bmatrix}\n",
        "  0 \\\\\n",
        "  3\n",
        "  \\end{bmatrix}\n",
        "\\end{aligned}$"
      ],
      "metadata": {
        "id": "ga0UsXO3T4ub"
      }
    },
    {
      "cell_type": "markdown",
      "source": [
        "### 1.3) Matrix Picture"
      ],
      "metadata": {
        "id": "r_k3ErKxfHnN"
      }
    },
    {
      "cell_type": "markdown",
      "source": [
        "#### Notation"
      ],
      "metadata": {
        "id": "b4ASfQFclpJK"
      }
    },
    {
      "cell_type": "markdown",
      "source": [
        "Coefficients expressed as matrix and unknowns as vectors.\n",
        "\n",
        "Matrix view -\n",
        "$\\begin{aligned}\n",
        "    \\begin{bmatrix}\n",
        "        2 & -1 \\\\\n",
        "        -1 & 2\n",
        "    \\end{bmatrix}\n",
        "    \\begin{bmatrix}\n",
        "        x \\\\\n",
        "        y\n",
        "    \\end{bmatrix}\n",
        "    &=\n",
        "    \\begin{bmatrix}\n",
        "        0 \\\\\n",
        "        3\n",
        "    \\end{bmatrix}\n",
        "    \\\\\n",
        "    A & x  = b\n",
        "\\end{aligned}$  \n",
        "\n",
        "$A \\in \\mathbb{R}^{m*n} \\text{ a matrix with } m \\text{ rows and } n \\text{ columns}$\n",
        "\n",
        "$x \\in \\mathbb{R}^{n} \\text{ a vector with } n \\text{ entries}$\n",
        "\n",
        "By convention, an n-dimensional vector is often thought of as a matrix with $(n) rows$ and $(1) column$, known as a **column vector**."
      ],
      "metadata": {
        "id": "1abF5R7VfJS6"
      }
    },
    {
      "cell_type": "code",
      "source": [
        "matA = np.array([[2,-1], [-1,2]])\n",
        "matA"
      ],
      "metadata": {
        "id": "VNmrNIVrgJ-M",
        "outputId": "573d9a59-8e23-4624-e30f-2ebbbd7c2a50",
        "colab": {
          "base_uri": "https://localhost:8080/"
        }
      },
      "execution_count": 10,
      "outputs": [
        {
          "output_type": "execute_result",
          "data": {
            "text/plain": [
              "array([[ 2, -1],\n",
              "       [-1,  2]])"
            ]
          },
          "metadata": {},
          "execution_count": 10
        }
      ]
    },
    {
      "cell_type": "code",
      "source": [
        "vec_b = np.array([0, 3])\n",
        "vec_b"
      ],
      "metadata": {
        "id": "YR27LvuRgSJh",
        "outputId": "9a717f1a-3565-4b11-cad1-512ea621cd23",
        "colab": {
          "base_uri": "https://localhost:8080/"
        }
      },
      "execution_count": 11,
      "outputs": [
        {
          "output_type": "execute_result",
          "data": {
            "text/plain": [
              "array([0, 3])"
            ]
          },
          "metadata": {},
          "execution_count": 11
        }
      ]
    },
    {
      "cell_type": "markdown",
      "source": [
        "Properties of numpy array"
      ],
      "metadata": {
        "id": "DFzOwEdVEYdE"
      }
    },
    {
      "cell_type": "code",
      "source": [
        "print(f\"Number of dimensions = {matA.ndim}\")\n",
        "print(f\"(rows, columns) = {matA.shape}\")\n",
        "print(f\"Total number of elements  = {matA.size}\")\n",
        "print(f\"Data type of the elements = {matA.dtype}\")\n",
        "print(f\"Size in bytes of each element = {matA.itemsize}\")"
      ],
      "metadata": {
        "id": "rz7_gKjzCl5d",
        "outputId": "100373a3-6717-49d2-a9cb-fd2f8b8ef299",
        "colab": {
          "base_uri": "https://localhost:8080/"
        }
      },
      "execution_count": 12,
      "outputs": [
        {
          "output_type": "stream",
          "name": "stdout",
          "text": [
            "Number of dimensions = 2\n",
            "(rows, columns) = (2, 2)\n",
            "Total number of elements  = 4\n",
            "Data type of the elements = int64\n",
            "Size in bytes of each element = 8\n"
          ]
        }
      ]
    },
    {
      "cell_type": "markdown",
      "source": [
        "#### Indexing"
      ],
      "metadata": {
        "id": "KSYAsA3463SM"
      }
    },
    {
      "cell_type": "markdown",
      "source": [
        "$i^{th}$ element of $x$ is $x_i$, similarly, elements of $A$ are accessed by $a_{ij}$\n",
        "\n",
        "$Row = i$,  $Column = j$"
      ],
      "metadata": {
        "id": "iy_hTQu6ktS4"
      }
    },
    {
      "cell_type": "code",
      "source": [
        "matA[1,0]  # indexing starts from 0"
      ],
      "metadata": {
        "id": "XGJD7WqElUmt",
        "outputId": "211edf99-3606-400e-8e9c-143607359649",
        "colab": {
          "base_uri": "https://localhost:8080/"
        }
      },
      "execution_count": 13,
      "outputs": [
        {
          "output_type": "execute_result",
          "data": {
            "text/plain": [
              "-1"
            ]
          },
          "metadata": {},
          "execution_count": 13
        }
      ]
    },
    {
      "cell_type": "code",
      "source": [
        "vec_b[0]"
      ],
      "metadata": {
        "id": "bsz3rlf9lgUF",
        "outputId": "8b76d359-5619-4db4-ac1e-aa1ecda1c1e6",
        "colab": {
          "base_uri": "https://localhost:8080/"
        }
      },
      "execution_count": 14,
      "outputs": [
        {
          "output_type": "execute_result",
          "data": {
            "text/plain": [
              "0"
            ]
          },
          "metadata": {},
          "execution_count": 14
        }
      ]
    },
    {
      "cell_type": "markdown",
      "source": [
        "#### Solving $Ax = b$"
      ],
      "metadata": {
        "id": "qJJ2Vj2F7UBN"
      }
    },
    {
      "cell_type": "code",
      "source": [
        "vectorX = np.linalg.solve(matA, vec_b)\n",
        "vectorX"
      ],
      "metadata": {
        "id": "ilNan_qC6PuR",
        "outputId": "68a1024f-6397-4e7a-c5b1-ea4659ee95d3",
        "colab": {
          "base_uri": "https://localhost:8080/"
        }
      },
      "execution_count": 15,
      "outputs": [
        {
          "output_type": "execute_result",
          "data": {
            "text/plain": [
              "array([1., 2.])"
            ]
          },
          "metadata": {},
          "execution_count": 15
        }
      ]
    },
    {
      "cell_type": "markdown",
      "source": [
        "In general, for a real-valued system of linear equations we obtain **either no, exactly one, or infinitely many solutions**."
      ],
      "metadata": {
        "id": "9Gu3YNry57EO"
      }
    },
    {
      "cell_type": "markdown",
      "source": [
        "## 2) Matrix Operations"
      ],
      "metadata": {
        "id": "HtCKy3Ll6Jky"
      }
    },
    {
      "cell_type": "markdown",
      "source": [
        "### 2.1) Matrix Transpose"
      ],
      "metadata": {
        "id": "X80Bk804EnP0"
      }
    },
    {
      "cell_type": "markdown",
      "source": [
        "$(A^T)_{ij} = A_{ji}$"
      ],
      "metadata": {
        "id": "TfjgMqfL31Y7"
      }
    },
    {
      "cell_type": "markdown",
      "source": [
        "$\\begin{aligned}\n",
        "    x =\n",
        "    \\begin{bmatrix}\n",
        "        1 & 2 \\\\\n",
        "        3 & 4\n",
        "    \\end{bmatrix}\n",
        "    x^T =\n",
        "    \\begin{bmatrix}\n",
        "        1 & 3 \\\\\n",
        "        2 & 4\n",
        "    \\end{bmatrix}\n",
        "\\end{aligned}$\n",
        "\n"
      ],
      "metadata": {
        "id": "P1IDeEo3Etn1"
      }
    },
    {
      "cell_type": "code",
      "source": [
        "vecX = np.array([[1,2], [3,4]])"
      ],
      "metadata": {
        "id": "o0-XMrxxFT_z"
      },
      "execution_count": 16,
      "outputs": []
    },
    {
      "cell_type": "code",
      "source": [
        "vecX.T"
      ],
      "metadata": {
        "id": "fatDOnt8FWS1",
        "outputId": "b923366f-d97d-41ba-c588-927b3f78b524",
        "colab": {
          "base_uri": "https://localhost:8080/"
        }
      },
      "execution_count": 17,
      "outputs": [
        {
          "output_type": "execute_result",
          "data": {
            "text/plain": [
              "array([[1, 3],\n",
              "       [2, 4]])"
            ]
          },
          "metadata": {},
          "execution_count": 17
        }
      ]
    },
    {
      "cell_type": "markdown",
      "source": [
        "### 2.2) Matrix Addition"
      ],
      "metadata": {
        "id": "z4C-aV8gtUx2"
      }
    },
    {
      "cell_type": "markdown",
      "source": [
        "Sum of two matrices is defined element wise."
      ],
      "metadata": {
        "id": "hVBK42m-tZbv"
      }
    },
    {
      "cell_type": "markdown",
      "source": [
        "$\\begin{aligned}\n",
        "    \\begin{bmatrix}\n",
        "        2 & 5 \\\\\n",
        "        1 & 3\n",
        "    \\end{bmatrix}\n",
        "    +\n",
        "    \\begin{bmatrix}\n",
        "        2 & 5 \\\\\n",
        "        1 & 3\n",
        "    \\end{bmatrix}\n",
        "    =\n",
        "    \\begin{bmatrix}\n",
        "        2+2 & 5+5 \\\\\n",
        "        1+1 & 3+3\n",
        "    \\end{bmatrix}\n",
        "\\end{aligned}$"
      ],
      "metadata": {
        "id": "xXc3GksJxqzq"
      }
    },
    {
      "cell_type": "code",
      "source": [
        "matA = np.array([[2,5], [1,3]])\n",
        "matB = np.array([[2,5], [1,3]])"
      ],
      "metadata": {
        "id": "UmxzAJw3tcBS"
      },
      "execution_count": 18,
      "outputs": []
    },
    {
      "cell_type": "code",
      "source": [
        "matA + matB"
      ],
      "metadata": {
        "id": "Cy6tjWgBzTIf",
        "outputId": "0c88bfab-c8ac-4638-e5e9-0a9f53921d08",
        "colab": {
          "base_uri": "https://localhost:8080/"
        }
      },
      "execution_count": 19,
      "outputs": [
        {
          "output_type": "execute_result",
          "data": {
            "text/plain": [
              "array([[ 4, 10],\n",
              "       [ 2,  6]])"
            ]
          },
          "metadata": {},
          "execution_count": 19
        }
      ]
    },
    {
      "cell_type": "markdown",
      "source": [
        "**Addition Properties**:  \n",
        "$\\text{Commutative} ⇒ A+B = B+A$  \n",
        "$\\text{Distributive} ⇒ c(A + B) = cA + cB$  \n",
        "$\\text{Associative} ⇒ (A+B)+C = A+(B+C)$  "
      ],
      "metadata": {
        "id": "hbtkojg2NV8H"
      }
    },
    {
      "cell_type": "markdown",
      "source": [
        "### 2.3) Matrix multiplication"
      ],
      "metadata": {
        "id": "WE38uXS0jo2m"
      }
    },
    {
      "cell_type": "markdown",
      "source": [
        "The product of two matrices $A \\in \\mathbb{R}^{m \\times b}$ and $B \\in \\mathbb{R}^{n \\times p}$ is the matrix $C = AB \\in \\mathbb{R}^{m \\times p}$ where $\\boxed{C_{ij} = \\sum\\limits_{k=1}^n A_{ik} B_{kj}}$"
      ],
      "metadata": {
        "id": "-Q-hFIMz-EjD"
      }
    },
    {
      "cell_type": "markdown",
      "source": [
        "Multiplication $(m \\times p)$ to exist $(m \\times n) (n \\times p)$ inner dimension must match.\n",
        "\n",
        "The number of columns in $A$ must equal the number of rows in $B$."
      ],
      "metadata": {
        "id": "yi0lnlIM_3do"
      }
    },
    {
      "cell_type": "markdown",
      "source": [
        "#### 1) Scalar Multiplication"
      ],
      "metadata": {
        "id": "FME0rdhw9L2E"
      }
    },
    {
      "cell_type": "markdown",
      "source": [
        "$\\begin{aligned}\n",
        "    c \\cdot x =\n",
        "    \\begin{bmatrix}\n",
        "        c \\cdot 1 & c \\cdot 2 \\\\\n",
        "        c \\cdot 3 & c \\cdot 4\n",
        "    \\end{bmatrix}\n",
        "\\end{aligned}$"
      ],
      "metadata": {
        "id": "IQUZKyPlyHXM"
      }
    },
    {
      "cell_type": "code",
      "source": [
        "vecX =  np.array([1,2])"
      ],
      "metadata": {
        "id": "Rou6Ts_ftgWM"
      },
      "execution_count": 20,
      "outputs": []
    },
    {
      "cell_type": "code",
      "source": [
        "vecX*2"
      ],
      "metadata": {
        "id": "LU6H83IW9TbH",
        "outputId": "479c264e-08c9-483d-ac22-e04be63ed097",
        "colab": {
          "base_uri": "https://localhost:8080/"
        }
      },
      "execution_count": 21,
      "outputs": [
        {
          "output_type": "execute_result",
          "data": {
            "text/plain": [
              "array([2, 4])"
            ]
          },
          "metadata": {},
          "execution_count": 21
        }
      ]
    },
    {
      "cell_type": "markdown",
      "source": [
        "#### 2) Vector-Vector Product"
      ],
      "metadata": {
        "id": "688yPWpAAxJw"
      }
    },
    {
      "cell_type": "markdown",
      "source": [
        "_Also called inner product or dot product of vectors._"
      ],
      "metadata": {
        "id": "UG37GW3pBaDw"
      }
    },
    {
      "cell_type": "markdown",
      "source": [
        "$x^T \\cdot y = \\sum\\limits_{k=1}^n x_{i} y_{i}$\n",
        "\n",
        "$\\boxed{\\begin{aligned}\n",
        "    x^T \\cdot y =\n",
        "    \\begin{bmatrix}\n",
        "        a & b\n",
        "    \\end{bmatrix}\n",
        "    \\begin{bmatrix}\n",
        "        c \\\\\n",
        "        d\n",
        "    \\end{bmatrix}\n",
        "    =\n",
        "    \\begin{bmatrix}\n",
        "        a \\cdot c \\\\\n",
        "        b \\cdot d\n",
        "    \\end{bmatrix}\n",
        "\\end{aligned}}$"
      ],
      "metadata": {
        "id": "uAZ9BsqOyXw1"
      }
    },
    {
      "cell_type": "markdown",
      "source": [
        "$x^T \\cdot y = y^T \\cdot x$\n",
        "\n",
        "$\\boxed{\\begin{aligned}\n",
        "    y^T \\cdot x =\n",
        "    \\begin{bmatrix}\n",
        "        c & d\n",
        "    \\end{bmatrix}\n",
        "    \\begin{bmatrix}\n",
        "        a \\\\\n",
        "        b\n",
        "    \\end{bmatrix}\n",
        "    =\n",
        "    \\begin{bmatrix}\n",
        "        c \\cdot a \\\\\n",
        "        b \\cdot b\n",
        "    \\end{bmatrix}\n",
        "\\end{aligned}}$"
      ],
      "metadata": {
        "id": "4wvDp7HQGLVq"
      }
    },
    {
      "cell_type": "code",
      "source": [
        "vecX = np.array([1,2])\n",
        "vecY = np.array([2,1])\n",
        "vecX.shape, vecY.shape"
      ],
      "metadata": {
        "id": "6smekAdXA2Np",
        "outputId": "6712fe4f-3aac-4d9a-e223-14b939881fca",
        "colab": {
          "base_uri": "https://localhost:8080/"
        }
      },
      "execution_count": 22,
      "outputs": [
        {
          "output_type": "execute_result",
          "data": {
            "text/plain": [
              "((2,), (2,))"
            ]
          },
          "metadata": {},
          "execution_count": 22
        }
      ]
    },
    {
      "cell_type": "code",
      "source": [
        "result = 0\n",
        "for i in range(0, len(vecX)):\n",
        "  result += vecX[i]*vecY[i]\n",
        "result"
      ],
      "metadata": {
        "id": "G1LS854CBV8K",
        "outputId": "151af2fb-4c45-4336-8db0-ea56df11fa06",
        "colab": {
          "base_uri": "https://localhost:8080/"
        }
      },
      "execution_count": 23,
      "outputs": [
        {
          "output_type": "execute_result",
          "data": {
            "text/plain": [
              "4"
            ]
          },
          "metadata": {},
          "execution_count": 23
        }
      ]
    },
    {
      "cell_type": "code",
      "source": [
        "np.dot(vecX,vecY)  # numpy . operator"
      ],
      "metadata": {
        "id": "qy_DdROSCRqP",
        "outputId": "45eb5058-4ba1-48b2-8d1c-ab7fd6e0f375",
        "colab": {
          "base_uri": "https://localhost:8080/"
        }
      },
      "execution_count": 24,
      "outputs": [
        {
          "output_type": "execute_result",
          "data": {
            "text/plain": [
              "4"
            ]
          },
          "metadata": {},
          "execution_count": 24
        }
      ]
    },
    {
      "cell_type": "markdown",
      "source": [
        "#### 3) Matrix-Vector Product"
      ],
      "metadata": {
        "id": "lUmmQgkQo02R"
      }
    },
    {
      "cell_type": "markdown",
      "source": [
        "_Linear combination of columns of matrix_"
      ],
      "metadata": {
        "id": "HPE2dnbqHasZ"
      }
    },
    {
      "cell_type": "markdown",
      "source": [
        "$y = Ax$, where $y$ is a linear combination of the columns of $A$.\n",
        "\n",
        "$y^T = x^TA$, where $y$ is a linear combination of the rows of $A$."
      ],
      "metadata": {
        "id": "GjdZBRQXH0qy"
      }
    },
    {
      "cell_type": "code",
      "source": [
        "matA = np.array([[2,5], [1,3]])\n",
        "vecX =  np.array([1,2])"
      ],
      "metadata": {
        "id": "CpCDcUvDBRkV"
      },
      "execution_count": 25,
      "outputs": []
    },
    {
      "cell_type": "markdown",
      "source": [
        "![image.png](data:image/png;base64,iVBORw0KGgoAAAANSUhEUgAAAZ4AAABACAYAAAAqPxHkAAAAAXNSR0IArs4c6QAAAARnQU1BAACxjwv8YQUAAAAJcEhZcwAADsMAAA7DAcdvqGQAAA1ESURBVHhe7d0LVFR1Hgfw7wio6Yhlvii1lIespxZ3GS1r3QUs44SGiCxWiqImkOGrGTAUKc0HzNQmipF5VLAM8fgoNVc7Soql6dBChRbyaGGzs2iCzOiqM/DfAa6KBCUw9zm/zzn34Ny5Z7z3P7/f/O7cufd3VcwGhBBCiEA6cX8JIYQQQVDhIYQQIigqPIQQQgRFhYcQQoigqPAQQggRFBUeQgghgqLCQwghRFBUeAghhAiqA4XHjDyDP1Qq1R2ThyEPVm4J5bLftlvzDPBo9joqDwPyhB5Eax4MHs3WQ+UPQ56ZW0CupBOnknmv7YDitm3k9t7zvb4d/sbjrjfCwhjqGyDUT8VaXzhzzymXGr7anFvbzJgJRr0f91w7uOthtNweQ1asha/Qg+jsC21xk3WwGKF3555TACnEqbOvFsVN1sFi1EPWQ0xx2zZSGK+7xHes0qE2xbiOCwV7YIgcDU1qAWq5uYQQJWGwXsjHLsNMjNSkokCmiS5q4WHmYhxMfQUBHj24r3NeCIhZj2M/X+eWsLfrKNs65c6vj7cmD0zbVcEtJx/MXIrc7WuwYNxw9B0eAt2W46i+YbWFJ7EX4ePUESgvF3nFalCWm43UBRPg3fdPCNVtwunqG7A2S3S5xKqIhacSOcsjEJh6Dl4vLIY+ZQmi/IGc9DkIejEVJ6r4KOVO6NpdDbVvEKZERCDijulpPNqnK7ecjFz4Am9Nno+NlY8jSRcKN242sRcx4tQRKDAXeVWJ429pMW/jRTyZtBBhLSa6jGKVtZuJGfV+zF1vZBZuTpvUnWOZwWFsTf5lboaN5d9s7/xRthruzp7PKmV13Gz7sbDzO6Pav86tav9YWIx65u6uZ8b2rpCpkB3cn88qLXWNr2V7S+2yfRYj07v7Mb3RxM2QK+nGaYffexF1fN15ykWJxm3Hx6uaFR48xPIrr3HbCIbmryejWBXvG0/dFVT3Csa4R125GTbOA+E/cSwGogSnKi7x9DuFCx7p19O2v6UQ6mEY+6wP+jiruBnErkSLU0egsFzkVU8MG/s0fPp04R63QEaxKl7hcfJB7KYXMaTZGji7dLYF4kAeA9IJPbt3Ru3FH3D84MfYtS8HeRVm+k2EtEy0OHUElIt2JaNYFa/wtOgqSvLz8KPnJMx66iHYfx/+Gs6XnsG3G6PwxGBvjA6cgNDxAdAMGoEJKw/j5+a/1BHSIr7j1BFQLgpDmrEqqcLDKnOxcU0FolfHItDNhZtrb90wcMQ0pBaaUGepROHBDZjndwWfLI6BdmcZ6rilCGmNMHHqCCgX+SbVWJVO4bGWYXfSCnw3cy2SQwbzdHFf/YWfe/DxG5Px+CA1VM59MGzsLKw0zMMonMO2TZ+jmKKd/BZB4tQRUC7yTsKxKo3Cwy7iRIoW6X2XImP+SLgK+n1QhW6PPImgh23/vGDG/+gbPmmNqHHqCCgX7UbisSp+4WGXUbj5dSRfj0ZG4lNwE+PsLCcXdHFSw3vccAymX4pJS6QQp46AcrHjZBCr4haehgGKx+xvA7Ge9wGqxsmVC5Be2Lx5IIOlyIhDnabi9ekaNDkRkUiKiC2BBI1TR0C5yBuZxKqIhceMog/iETLzJB7s/C22vfMWDAaDbXoT8dGRmDZtEbYXXeOWtYee+HPQEHy0fDOOld88ZbP+wywbiQn/wviMJQgd0q1hLpEO8VsCCR2nwhC3tQrlIj9kFKvchaTt0JErwmuZ6fTbzF/dEHOtTDxcfVxbxvYuDGy4ur/h/3Afy6L1uxuvBu4QETsXsGus/PD7LCUxloX7eXLb5cfCouLYiqx825q1k0SuAK8rzWTBtm1Sj5jOknShzM3277aNs3Tj1D5Xg19j541fsR9MVu7x3fgvOxw3qiH+oxJXMX3KEhbl3xg7av8U9uWl33+tDq87X7mo2M4FtiErP8zWpSSyeeG2eG4YN0/mFxbF4lZks3yTRQaxept4LXMURczCwxOpJHCHWwJJN07t896Xs50RQW17n+zQWoXitm0kO153yd7rL53TqQlpCbUEsj9qA0RERoWHEEdDbYCIyKjwEEJsqA0QEQ4VHmI3daVbEdKj6Q297mL6wxvIraFL1MXm0G2A6s5ha8jgluOz1Wk0lub+wr0AaSsqPMRuOg2Zit2m2/dpv6vpbBJGu1IYisrR2wB18sTU3WUtx2erUy6Wjb6fewHSVpTxhMhBq3vlgxCauR86zc3rcZpOd7FXTm2AiAio8BC7oUNtPGp1r7wcOyOCoDeaWnjud/bKqQ1QIzrUJjgqPMRu6FCbjFAboNvoUJt9WS+i6JsKmOsvW22FNDLeWomCXQZEjgxGasEVbiYhEqOYOFVmGyCHZ61B9ZXfugLrBi5XX21oY8CfX5C7LARDfUIQt7+i1f9LxMJTC3PZcWxPXYhx3u4YHqrDltM1uMHznQeZ+XvsWTEFmpuHhDyeQUzqIZSaZXrJHKtB6cG1iAnw4g4B9IBHwCtYe+wnWLlF5O06Ko5shH7pXEzRbkCJbU5JuhYvRMdj5fYC20co38SJU/7UwWx8H9Evv4dzKMCOlATodDpuSkTKe1uQmfkVKkz8R4/iclFk1oIN0Kiduc+BlqahmL73J54Ljwtce/eGWt0fA+6/h5v3ayIWHisuHE/H5HlZqHxyDnRh3tx8HrEyZM9+DtrDrpictgM7s9IQ512O9HmhCHrzc1yS3WdJLapykhEYuBY/eIUjRb8KiVFPADlpmBsUhZQTF3kOMiF0wcCAWdAtS0VWTlHjYY7iHGSnJyMh3Adqbin+iBCnvOoEtWYBjvzmIdEcaH15HlnF5aJEeIYhLkUPvb7ptBJxYT7AiJlYOG4Izx/6rvCZuxsm0z4kjOrd6vVgIhYeF/TxnYH9+fn4MmMJwkf25+bzqKoIJ6pexScH06CNmISJ4S9jdeY6xNs+S77fcACnq+S2p2VF9U/nMWDNdnyavhw67SIsS/8Ex/bq4G3ej1VrD6OCEriDRIjTNumLUXOX4rmhre9dSpLiclEa7gmJxmKdFlptk2leMIbe6IzIRRH4y33S6EkhYuGx7XkNC8CzPn0Fu26g9qIZfec8A2+X23VY1csLI0f2Ax68Hz27ijgc7WJFTbUbIscNQ1duTv03hAf8xyNsIGA+VYELlL8dJHyctk0XuPmOhJdaXk1ulJeL4lM5d8EA29h15x43qsWl3I/wD0Rj0fiBkulI4VDvrpNXKBLGPXzHRrOaMhR8fS8il0yCbze5ndnTHT6xKzF1SBfuMce5/i6Otr+P9EMvarpFJEh5uSg+J59YHJjrc2efvasF+GD1N3h+0QR4NinyYnPg3YpamMuPY2vSelQs2ITUv3tCGY1CGCwlBTj6oy9iZvnhYcpfInlKzUWxXUVR1tt412MWIh/rJan+ew5ZeGrPpONvmmDEJL6L7Nxj2DwzHJNf24EzSjibhv2MIxsz8WN0AhYFDqBmj0TSFJ2LomKwlu/DqiUMuvlj4CaxDwKHLDxOw6Jx1LgPWzM+xL6TeTi6wgtHk6Mwfc0pAU7P5dM1lO9OwfzvwrAtORiD6B42ROKUm4siY//BP1e/g8KXZiPEU3q3EXfgQ20cZzeMfn4SxqAKp3eeRolsd7RqUXViLWal98a6jBhoXOnHHSIzislFsVlReSgNuqzhWBT1BO6T4P6nAxWe67jwfQl+aeH0YlXX7uhp+6v2GYC+shyRWpgLP8CryTcQn6HDGLdmJxsQIilKzkXxsaovkJa4DfclRCLwAWn+WuZQhad8nx6bv77MPb6pDjVnjfhMHYykOX7oL7ujU41FJ3b2GUxcr6WiQ2RAqbkoAewSvnp3JZad/RtiJv4R0jvI1siBCk8PeD/WH2m6ZGwvqLR9Ga1n+9Au/RSG1Wfx0p51mK+R1pkfv4/hWlEWYkMW4IsHGc5uW8v13NJjRXwMpk2LROz2IttWEiIlSsxFKWC4+s2HWLrqENxmTUHQYOnuhIpbeOrKcSQtBUvnz4Y23WibYUS6dgai4/W2gKxuXMZuVOjmHYBXHjqJxcP7waW+d1GPUZixuRL+72Xg9TED5HcDLPMprIt+DVvOVeHcDj3ibvXcisOSlHRkZm7BgQqTAtrmiEzQOHUECsxFKbCcRVbS2/jMHIiFUx5HLwlXbnELT6dBCJgTh2XvbENOcf39REwozslGerIO4T73cgvZj6rPX/Hq5iMovtmTynQK2ctnwH+wqzz3rtSPQXukvEmPrV9PxVpfSuKOEjhOHYHiclEKXIZhxp762zscgNa3/pcy6aKf7wghhAiKCg8hhBBBUeEhhBAiKCo8hBBCBEWFhxBCiKA6XHhKdJrG0yG5ycOQx52Xr2Rm5Bn8b21z/e2mNbrPuefaoUQHjcvtMVR5GJAn9CBa82DwaLIOLhro6u8zrRBSiFNrngEeTdbBRaNruJW3bFHcto0Uxusu8R2rKlZ/LiMhhBAiEDrURgghRFBUeAghhAiKCg8hhBBBUeEhhBAiKCo8hBBCBEWFhxBCiKCo8BBCCBEUFR5CCCECAv4PkCUeSqyoLFgAAAAASUVORK5CYII=)"
      ],
      "metadata": {
        "id": "Hw6OxCOPvN-r"
      }
    },
    {
      "cell_type": "code",
      "source": [
        "def linear(mat, vec):\n",
        "  result = np.zeros(mat.shape[1])\n",
        "  for col in range(mat.shape[1]):\n",
        "    col_vector = mat[:, col]\n",
        "    scaled_vector = vec[col] * col_vector\n",
        "    result += scaled_vector\n",
        "  return result"
      ],
      "metadata": {
        "id": "ci4455n8yzMO"
      },
      "execution_count": 26,
      "outputs": []
    },
    {
      "cell_type": "code",
      "source": [
        "linear(matA, vecX)"
      ],
      "metadata": {
        "id": "n9M57EgKzBuA",
        "outputId": "f30a83d9-d8fa-4840-ac7b-fa976db7bc04",
        "colab": {
          "base_uri": "https://localhost:8080/"
        }
      },
      "execution_count": 27,
      "outputs": [
        {
          "output_type": "execute_result",
          "data": {
            "text/plain": [
              "array([12.,  7.])"
            ]
          },
          "metadata": {},
          "execution_count": 27
        }
      ]
    },
    {
      "cell_type": "code",
      "source": [
        "np.matmul(matA, vecX)"
      ],
      "metadata": {
        "id": "TUhfVyv8HOus",
        "outputId": "13909049-f0b8-4b68-d999-5a714e26b6b5",
        "colab": {
          "base_uri": "https://localhost:8080/"
        }
      },
      "execution_count": 28,
      "outputs": [
        {
          "output_type": "execute_result",
          "data": {
            "text/plain": [
              "array([12,  7])"
            ]
          },
          "metadata": {},
          "execution_count": 28
        }
      ]
    },
    {
      "cell_type": "code",
      "source": [
        "np.matmul(vecX.T, matA)"
      ],
      "metadata": {
        "id": "QT3JiF-_IYLp",
        "outputId": "a7393a7f-b141-495f-8cee-442cf2b4fc2b",
        "colab": {
          "base_uri": "https://localhost:8080/"
        }
      },
      "execution_count": 29,
      "outputs": [
        {
          "output_type": "execute_result",
          "data": {
            "text/plain": [
              "array([ 4, 11])"
            ]
          },
          "metadata": {},
          "execution_count": 29
        }
      ]
    },
    {
      "cell_type": "markdown",
      "source": [
        "#### 4) Matrix-Matrix Product"
      ],
      "metadata": {
        "id": "XNlGgyxooy7X"
      }
    },
    {
      "cell_type": "markdown",
      "source": [
        "_Dot product._"
      ],
      "metadata": {
        "id": "KfbaN_T-KQIq"
      }
    },
    {
      "cell_type": "markdown",
      "source": [
        "$\\boxed{\\begin{aligned}\n",
        "    A \\cdot B =\n",
        "    \\begin{bmatrix}\n",
        "        1 & 2 \\\\\n",
        "        3 & 4\n",
        "    \\end{bmatrix}\n",
        "    \\begin{bmatrix}\n",
        "        4 & 3 \\\\\n",
        "        2 & 1\n",
        "    \\end{bmatrix}\n",
        "    =\n",
        "    \\begin{bmatrix}\n",
        "        1 \\cdot 4 + 2 \\cdot 2 & 1 \\cdot 3 + 2 \\cdot 1\\\\\n",
        "        3 \\cdot 4 + 4 \\cdot 2 & 3 \\cdot 3 + 4 \\cdot 1\\\\\n",
        "    \\end{bmatrix}\n",
        "\\end{aligned}}$"
      ],
      "metadata": {
        "id": "Vt97K2nMzy2t"
      }
    },
    {
      "cell_type": "code",
      "source": [
        "A = np.array([[1,2], [3,4]])\n",
        "B = np.array([[4,3], [2,1]])"
      ],
      "metadata": {
        "id": "SZOUDqwkJayY"
      },
      "execution_count": 30,
      "outputs": []
    },
    {
      "cell_type": "code",
      "source": [
        "A.dot(B)  # np.dot"
      ],
      "metadata": {
        "id": "7fxAhSxXJozy",
        "outputId": "293b618a-fd23-4c16-9e35-0c55b3011d7b",
        "colab": {
          "base_uri": "https://localhost:8080/"
        }
      },
      "execution_count": 31,
      "outputs": [
        {
          "output_type": "execute_result",
          "data": {
            "text/plain": [
              "array([[ 8,  5],\n",
              "       [20, 13]])"
            ]
          },
          "metadata": {},
          "execution_count": 31
        }
      ]
    },
    {
      "cell_type": "code",
      "source": [
        "A @ B  # @ operator"
      ],
      "metadata": {
        "id": "7MOZ-EGWJvaN",
        "outputId": "c7ce13ed-f790-42f3-a349-c2bcc1dc8bab",
        "colab": {
          "base_uri": "https://localhost:8080/"
        }
      },
      "execution_count": 32,
      "outputs": [
        {
          "output_type": "execute_result",
          "data": {
            "text/plain": [
              "array([[ 8,  5],\n",
              "       [20, 13]])"
            ]
          },
          "metadata": {},
          "execution_count": 32
        }
      ]
    },
    {
      "cell_type": "code",
      "source": [
        "np.matmul(A, B)  # np.matmul"
      ],
      "metadata": {
        "id": "O5OZ9-ILJ2Ra",
        "outputId": "9201f5bc-c5b1-44d1-985e-e8c9c07b91c2",
        "colab": {
          "base_uri": "https://localhost:8080/"
        }
      },
      "execution_count": 33,
      "outputs": [
        {
          "output_type": "execute_result",
          "data": {
            "text/plain": [
              "array([[ 8,  5],\n",
              "       [20, 13]])"
            ]
          },
          "metadata": {},
          "execution_count": 33
        }
      ]
    },
    {
      "cell_type": "markdown",
      "source": [
        "**Multiplication Properties**:  \n",
        "$\\text{Not Commutative} ⇒ AB \\ne BA$  \n",
        "$\\text{Associative} ⇒ (AB)C = A(BC)$  \n",
        "$\\text{Distributive} ⇒ A(B + C ) = AB + BC$  "
      ],
      "metadata": {
        "id": "xpTiiKI5MVqS"
      }
    },
    {
      "cell_type": "code",
      "source": [
        "A = np.array([[0,0], [1,0]])\n",
        "B = np.array([[0,0], [0,1]])"
      ],
      "metadata": {
        "id": "KkPq6wiPNEil"
      },
      "execution_count": 34,
      "outputs": []
    },
    {
      "cell_type": "markdown",
      "source": [
        "$\\boxed{\\begin{aligned}\n",
        "    A \\cdot B =\n",
        "    \\begin{bmatrix}\n",
        "        0 & 0 \\\\\n",
        "        1 & 0\n",
        "    \\end{bmatrix}\n",
        "    \\begin{bmatrix}\n",
        "        0 & 0 \\\\\n",
        "        0 & 1\n",
        "    \\end{bmatrix}\n",
        "    =\n",
        "    \\begin{bmatrix}\n",
        "        0 + 0 & 0 + 0\\\\\n",
        "        0 + 0 & 0 + 0\\\\\n",
        "    \\end{bmatrix}\n",
        "\\end{aligned}}$\n",
        "\n",
        "$\\boxed{\\begin{aligned}\n",
        "    B \\cdot A =\n",
        "    \\begin{bmatrix}\n",
        "        0 & 0 \\\\\n",
        "        0 & 1\n",
        "    \\end{bmatrix}\n",
        "    \\begin{bmatrix}\n",
        "        0 & 0 \\\\\n",
        "        1 & 0\n",
        "    \\end{bmatrix}\n",
        "    =\n",
        "    \\begin{bmatrix}\n",
        "        0 + 0 & 0 + 0\\\\\n",
        "        0 + 1 & 0 + 0\\\\\n",
        "    \\end{bmatrix}\n",
        "\\end{aligned}}$"
      ],
      "metadata": {
        "id": "R7bDiNhf1n3p"
      }
    },
    {
      "cell_type": "code",
      "source": [
        "A @ B == B @ A"
      ],
      "metadata": {
        "id": "tq-iBIVcOVhv",
        "outputId": "afd79500-d30a-4dec-c985-ddd1348e89ed",
        "colab": {
          "base_uri": "https://localhost:8080/"
        }
      },
      "execution_count": 35,
      "outputs": [
        {
          "output_type": "execute_result",
          "data": {
            "text/plain": [
              "array([[ True,  True],\n",
              "       [False,  True]])"
            ]
          },
          "metadata": {},
          "execution_count": 35
        }
      ]
    },
    {
      "cell_type": "markdown",
      "source": [
        "### Matrix Inverse"
      ],
      "metadata": {
        "id": "CBjGvrfvrb_j"
      }
    },
    {
      "cell_type": "markdown",
      "source": [
        "If there is a square matrix $A$ then it may or may not have it's inverse.\n",
        "\n",
        "1.   If it does\n",
        "\n",
        "> $A^{-1} A = I = AA^{-1}$  \n",
        "> $A$ is invertible or non-singular.\n",
        "\n",
        "2.   If it does not\n",
        "\n",
        "> $det(A) = 0$ and we can find non-zero vector $x$ such that $Ax = 0$.  \n",
        "> $A$ is singular\n",
        "\n",
        "\n",
        "\n"
      ],
      "metadata": {
        "id": "wf0udzwbgCkF"
      }
    },
    {
      "cell_type": "code",
      "source": [
        "matrix = np.array([[2, 1, 0],\n",
        "                   [1, 3, 1],\n",
        "                   [0, 1, 2]])\n",
        "\n",
        "try:\n",
        "  inverse_matrix = np.linalg.inv(matrix)\n",
        "  print(\"Inverse Matrix:\")\n",
        "  print(inverse_matrix)\n",
        "except np.linalg.LinAlgError:\n",
        "  print(\"Matrix is singular and does not have an inverse.\")"
      ],
      "metadata": {
        "colab": {
          "base_uri": "https://localhost:8080/"
        },
        "id": "9dMlNbpSgGGv",
        "outputId": "9ad22417-7e3f-4946-d7ee-9c91f7201c97"
      },
      "execution_count": 36,
      "outputs": [
        {
          "output_type": "stream",
          "name": "stdout",
          "text": [
            "Inverse Matrix:\n",
            "[[ 0.625 -0.25   0.125]\n",
            " [-0.25   0.5   -0.25 ]\n",
            " [ 0.125 -0.25   0.625]]\n"
          ]
        }
      ]
    },
    {
      "cell_type": "markdown",
      "source": [
        "Inverse of transpose\n",
        "\n",
        "$(A^{-1})^T = (A^T)^{-1}$"
      ],
      "metadata": {
        "id": "VudwDfDCtHbJ"
      }
    },
    {
      "cell_type": "markdown",
      "source": [
        "Inverse of product\n",
        "\n",
        "$(AB) (B^{-1}A^{-1}) = I = (B^{-1}A^{-1})(AB)$"
      ],
      "metadata": {
        "id": "r8CVA8-IrM47"
      }
    },
    {
      "cell_type": "markdown",
      "source": [
        "## Vector Spaces"
      ],
      "metadata": {
        "id": "Wa-2HXn86ihE"
      }
    },
    {
      "cell_type": "markdown",
      "source": [],
      "metadata": {
        "id": "eR8Zrtsu6lvH"
      }
    },
    {
      "cell_type": "code",
      "source": [],
      "metadata": {
        "id": "oDmaQJHU6mYM"
      },
      "execution_count": null,
      "outputs": []
    }
  ]
}