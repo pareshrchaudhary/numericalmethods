{
  "nbformat": 4,
  "nbformat_minor": 0,
  "metadata": {
    "colab": {
      "provenance": [],
      "authorship_tag": "ABX9TyMo+SzM0YZZR1P9SNAjrNNB",
      "include_colab_link": true
    },
    "kernelspec": {
      "name": "python3",
      "display_name": "Python 3"
    },
    "language_info": {
      "name": "python"
    }
  },
  "cells": [
    {
      "cell_type": "markdown",
      "metadata": {
        "id": "view-in-github",
        "colab_type": "text"
      },
      "source": [
        "<a href=\"https://colab.research.google.com/github/pareshrchaudhary/numericalmethods/blob/main/DerivativesApplications.ipynb\" target=\"_parent\"><img src=\"https://colab.research.google.com/assets/colab-badge.svg\" alt=\"Open In Colab\"/></a>"
      ]
    },
    {
      "cell_type": "markdown",
      "source": [
        "# Applications of Derivatives"
      ],
      "metadata": {
        "id": "PdHXRunXIxqK"
      }
    },
    {
      "cell_type": "markdown",
      "source": [
        "## 1) Approximation"
      ],
      "metadata": {
        "id": "4dLXDG1WI9RW"
      }
    },
    {
      "cell_type": "markdown",
      "source": [
        "### 1.1) Linear Approximation"
      ],
      "metadata": {
        "id": "h7eZSeLWJIHU"
      }
    },
    {
      "cell_type": "code",
      "execution_count": null,
      "metadata": {
        "id": "8mI8Ri0kIvEy"
      },
      "outputs": [],
      "source": []
    },
    {
      "cell_type": "markdown",
      "source": [
        "### 1.2) Quadratic Approximation"
      ],
      "metadata": {
        "id": "aA8dUizlJMRs"
      }
    },
    {
      "cell_type": "code",
      "source": [],
      "metadata": {
        "id": "aBG5zOEOJQqy"
      },
      "execution_count": null,
      "outputs": []
    },
    {
      "cell_type": "markdown",
      "source": [
        "### 1.3) Newton's Method"
      ],
      "metadata": {
        "id": "XtLOawmRJRIw"
      }
    },
    {
      "cell_type": "code",
      "source": [],
      "metadata": {
        "id": "TMKWNMD3JXXx"
      },
      "execution_count": null,
      "outputs": []
    },
    {
      "cell_type": "markdown",
      "source": [
        "## 2) Graphing and critical points: 1st and 2nd derivative tests"
      ],
      "metadata": {
        "id": "EoBZjVBUJBeC"
      }
    },
    {
      "cell_type": "code",
      "source": [],
      "metadata": {
        "id": "R-TDffhFJs0J"
      },
      "execution_count": null,
      "outputs": []
    },
    {
      "cell_type": "markdown",
      "source": [
        "## 3) Optimization: max min problems"
      ],
      "metadata": {
        "id": "kz3JPeRhJtX_"
      }
    },
    {
      "cell_type": "code",
      "source": [],
      "metadata": {
        "id": "A453igWFJ1_L"
      },
      "execution_count": null,
      "outputs": []
    }
  ]
}