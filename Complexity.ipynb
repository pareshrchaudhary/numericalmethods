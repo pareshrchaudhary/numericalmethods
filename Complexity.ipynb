{
  "nbformat": 4,
  "nbformat_minor": 0,
  "metadata": {
    "colab": {
      "provenance": [],
      "authorship_tag": "ABX9TyMJiHr1y4cQEJJ/89XQX4D0",
      "include_colab_link": true
    },
    "kernelspec": {
      "name": "python3",
      "display_name": "Python 3"
    },
    "language_info": {
      "name": "python"
    }
  },
  "cells": [
    {
      "cell_type": "markdown",
      "metadata": {
        "id": "view-in-github",
        "colab_type": "text"
      },
      "source": [
        "<a href=\"https://colab.research.google.com/github/pareshrchaudhary/numericalmethods/blob/main/Complexity.ipynb\" target=\"_parent\"><img src=\"https://colab.research.google.com/assets/colab-badge.svg\" alt=\"Open In Colab\"/></a>"
      ]
    },
    {
      "cell_type": "markdown",
      "source": [
        "# Complexity\n",
        "\n",
        "The effort required for a computer to run a program to completion given the size of input. The most important point here is how does your application scale."
      ],
      "metadata": {
        "id": "ekIJkvQPV8nY"
      }
    },
    {
      "cell_type": "markdown",
      "source": [
        "The most promising way to gauge the performance of the program is to count all the fundamental operations like additions, subtractions, multiplications, divisions, assignments, and function calls in the the program. These fundamental oprations are common in all the the computers so the measurement of efficiency can be replicated everywhere.\n",
        "\n",
        "Let's calculate the operations in the function below-\n",
        "\n",
        "This is a special function that uses hardcoded values to return the total number of operations after the function executes to completion."
      ],
      "metadata": {
        "id": "q-RXdIpT2x88"
      }
    },
    {
      "cell_type": "code",
      "execution_count": 67,
      "metadata": {
        "id": "0KdCDBuO9JSw"
      },
      "outputs": [],
      "source": [
        "def f(n):\n",
        "  \"\"\"\n",
        "  f(n) = 2*n^2 + 4*n + 3\n",
        "\n",
        "  n^2 terms -> 2*n^2 (the run time of double for loops)\n",
        "  n terms -> 4*n\n",
        "  constant terms -> 3\n",
        "\n",
        "  return count of all the terms\n",
        "  \"\"\"\n",
        "  counter1 = 0\n",
        "  counter2 = 0\n",
        "  counter3 = 3  # constant time\n",
        "\n",
        "  for i in range(n):\n",
        "    for j in range(n):\n",
        "      counter1 += 2  # assignment & addition n^2 times\n",
        "\n",
        "  for k in range(n):\n",
        "    counter2 += 1*2   # assignment & multiplication n times\n",
        "\n",
        "  for l in range(n):\n",
        "    counter2 += 1*2   # assignment & multiplication n times\n",
        "\n",
        "  return counter1, counter2, counter3"
      ]
    },
    {
      "cell_type": "code",
      "source": [
        "for i in range(0, 6):\n",
        "  print(\" n =\", i, \"->\", f(i))"
      ],
      "metadata": {
        "colab": {
          "base_uri": "https://localhost:8080/"
        },
        "id": "kv9fkOrQaHKi",
        "outputId": "278652a8-48f4-464e-d82d-b59f31c3681d"
      },
      "execution_count": 68,
      "outputs": [
        {
          "output_type": "stream",
          "name": "stdout",
          "text": [
            " n = 0 -> (0, 0, 3)\n",
            " n = 1 -> (2, 4, 3)\n",
            " n = 2 -> (8, 8, 3)\n",
            " n = 3 -> (18, 12, 3)\n",
            " n = 4 -> (32, 16, 3)\n",
            " n = 5 -> (50, 20, 3)\n"
          ]
        }
      ]
    },
    {
      "cell_type": "code",
      "source": [],
      "metadata": {
        "id": "Vu6IvExKbt6-"
      },
      "execution_count": null,
      "outputs": []
    }
  ]
}